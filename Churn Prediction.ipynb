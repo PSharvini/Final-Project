{
 "cells": [
  {
   "cell_type": "code",
   "execution_count": 49,
   "metadata": {},
   "outputs": [],
   "source": [
    "import pandas as pd\n",
    "import numpy as np\n",
    "import seaborn as sns\n",
    "sns.set(style=\"ticks\", color_codes=True)\n",
    "import matplotlib.pyplot as plt\n",
    "%matplotlib inline"
   ]
  },
  {
   "cell_type": "code",
   "execution_count": 50,
   "metadata": {},
   "outputs": [
    {
     "data": {
      "text/plain": [
       "(7043, 21)"
      ]
     },
     "execution_count": 50,
     "metadata": {},
     "output_type": "execute_result"
    }
   ],
   "source": [
    "#Read data\n",
    "df = pd.read_csv(\"Telco-Customer-Churn.csv\")\n",
    "df.shape"
   ]
  },
  {
   "cell_type": "code",
   "execution_count": 51,
   "metadata": {},
   "outputs": [
    {
     "data": {
      "text/html": [
       "<div>\n",
       "<style scoped>\n",
       "    .dataframe tbody tr th:only-of-type {\n",
       "        vertical-align: middle;\n",
       "    }\n",
       "\n",
       "    .dataframe tbody tr th {\n",
       "        vertical-align: top;\n",
       "    }\n",
       "\n",
       "    .dataframe thead th {\n",
       "        text-align: right;\n",
       "    }\n",
       "</style>\n",
       "<table border=\"1\" class=\"dataframe\">\n",
       "  <thead>\n",
       "    <tr style=\"text-align: right;\">\n",
       "      <th></th>\n",
       "      <th>customerID</th>\n",
       "      <th>gender</th>\n",
       "      <th>SeniorCitizen</th>\n",
       "      <th>Partner</th>\n",
       "      <th>Dependents</th>\n",
       "      <th>tenure</th>\n",
       "      <th>PhoneService</th>\n",
       "      <th>MultipleLines</th>\n",
       "      <th>InternetService</th>\n",
       "      <th>OnlineSecurity</th>\n",
       "      <th>...</th>\n",
       "      <th>DeviceProtection</th>\n",
       "      <th>TechSupport</th>\n",
       "      <th>StreamingTV</th>\n",
       "      <th>StreamingMovies</th>\n",
       "      <th>Contract</th>\n",
       "      <th>PaperlessBilling</th>\n",
       "      <th>PaymentMethod</th>\n",
       "      <th>MonthlyCharges</th>\n",
       "      <th>TotalCharges</th>\n",
       "      <th>Churn</th>\n",
       "    </tr>\n",
       "  </thead>\n",
       "  <tbody>\n",
       "    <tr>\n",
       "      <th>0</th>\n",
       "      <td>7590-VHVEG</td>\n",
       "      <td>Female</td>\n",
       "      <td>0</td>\n",
       "      <td>Yes</td>\n",
       "      <td>No</td>\n",
       "      <td>1</td>\n",
       "      <td>No</td>\n",
       "      <td>No phone service</td>\n",
       "      <td>DSL</td>\n",
       "      <td>No</td>\n",
       "      <td>...</td>\n",
       "      <td>No</td>\n",
       "      <td>No</td>\n",
       "      <td>No</td>\n",
       "      <td>No</td>\n",
       "      <td>Month-to-month</td>\n",
       "      <td>Yes</td>\n",
       "      <td>Electronic check</td>\n",
       "      <td>29.85</td>\n",
       "      <td>29.85</td>\n",
       "      <td>No</td>\n",
       "    </tr>\n",
       "    <tr>\n",
       "      <th>1</th>\n",
       "      <td>5575-GNVDE</td>\n",
       "      <td>Male</td>\n",
       "      <td>0</td>\n",
       "      <td>No</td>\n",
       "      <td>No</td>\n",
       "      <td>34</td>\n",
       "      <td>Yes</td>\n",
       "      <td>No</td>\n",
       "      <td>DSL</td>\n",
       "      <td>Yes</td>\n",
       "      <td>...</td>\n",
       "      <td>Yes</td>\n",
       "      <td>No</td>\n",
       "      <td>No</td>\n",
       "      <td>No</td>\n",
       "      <td>One year</td>\n",
       "      <td>No</td>\n",
       "      <td>Mailed check</td>\n",
       "      <td>56.95</td>\n",
       "      <td>1889.5</td>\n",
       "      <td>No</td>\n",
       "    </tr>\n",
       "    <tr>\n",
       "      <th>2</th>\n",
       "      <td>3668-QPYBK</td>\n",
       "      <td>Male</td>\n",
       "      <td>0</td>\n",
       "      <td>No</td>\n",
       "      <td>No</td>\n",
       "      <td>2</td>\n",
       "      <td>Yes</td>\n",
       "      <td>No</td>\n",
       "      <td>DSL</td>\n",
       "      <td>Yes</td>\n",
       "      <td>...</td>\n",
       "      <td>No</td>\n",
       "      <td>No</td>\n",
       "      <td>No</td>\n",
       "      <td>No</td>\n",
       "      <td>Month-to-month</td>\n",
       "      <td>Yes</td>\n",
       "      <td>Mailed check</td>\n",
       "      <td>53.85</td>\n",
       "      <td>108.15</td>\n",
       "      <td>Yes</td>\n",
       "    </tr>\n",
       "    <tr>\n",
       "      <th>3</th>\n",
       "      <td>7795-CFOCW</td>\n",
       "      <td>Male</td>\n",
       "      <td>0</td>\n",
       "      <td>No</td>\n",
       "      <td>No</td>\n",
       "      <td>45</td>\n",
       "      <td>No</td>\n",
       "      <td>No phone service</td>\n",
       "      <td>DSL</td>\n",
       "      <td>Yes</td>\n",
       "      <td>...</td>\n",
       "      <td>Yes</td>\n",
       "      <td>Yes</td>\n",
       "      <td>No</td>\n",
       "      <td>No</td>\n",
       "      <td>One year</td>\n",
       "      <td>No</td>\n",
       "      <td>Bank transfer (automatic)</td>\n",
       "      <td>42.30</td>\n",
       "      <td>1840.75</td>\n",
       "      <td>No</td>\n",
       "    </tr>\n",
       "    <tr>\n",
       "      <th>4</th>\n",
       "      <td>9237-HQITU</td>\n",
       "      <td>Female</td>\n",
       "      <td>0</td>\n",
       "      <td>No</td>\n",
       "      <td>No</td>\n",
       "      <td>2</td>\n",
       "      <td>Yes</td>\n",
       "      <td>No</td>\n",
       "      <td>Fiber optic</td>\n",
       "      <td>No</td>\n",
       "      <td>...</td>\n",
       "      <td>No</td>\n",
       "      <td>No</td>\n",
       "      <td>No</td>\n",
       "      <td>No</td>\n",
       "      <td>Month-to-month</td>\n",
       "      <td>Yes</td>\n",
       "      <td>Electronic check</td>\n",
       "      <td>70.70</td>\n",
       "      <td>151.65</td>\n",
       "      <td>Yes</td>\n",
       "    </tr>\n",
       "  </tbody>\n",
       "</table>\n",
       "<p>5 rows × 21 columns</p>\n",
       "</div>"
      ],
      "text/plain": [
       "   customerID  gender  SeniorCitizen Partner Dependents  tenure PhoneService  \\\n",
       "0  7590-VHVEG  Female              0     Yes         No       1           No   \n",
       "1  5575-GNVDE    Male              0      No         No      34          Yes   \n",
       "2  3668-QPYBK    Male              0      No         No       2          Yes   \n",
       "3  7795-CFOCW    Male              0      No         No      45           No   \n",
       "4  9237-HQITU  Female              0      No         No       2          Yes   \n",
       "\n",
       "      MultipleLines InternetService OnlineSecurity  ... DeviceProtection  \\\n",
       "0  No phone service             DSL             No  ...               No   \n",
       "1                No             DSL            Yes  ...              Yes   \n",
       "2                No             DSL            Yes  ...               No   \n",
       "3  No phone service             DSL            Yes  ...              Yes   \n",
       "4                No     Fiber optic             No  ...               No   \n",
       "\n",
       "  TechSupport StreamingTV StreamingMovies        Contract PaperlessBilling  \\\n",
       "0          No          No              No  Month-to-month              Yes   \n",
       "1          No          No              No        One year               No   \n",
       "2          No          No              No  Month-to-month              Yes   \n",
       "3         Yes          No              No        One year               No   \n",
       "4          No          No              No  Month-to-month              Yes   \n",
       "\n",
       "               PaymentMethod MonthlyCharges  TotalCharges Churn  \n",
       "0           Electronic check          29.85         29.85    No  \n",
       "1               Mailed check          56.95        1889.5    No  \n",
       "2               Mailed check          53.85        108.15   Yes  \n",
       "3  Bank transfer (automatic)          42.30       1840.75    No  \n",
       "4           Electronic check          70.70        151.65   Yes  \n",
       "\n",
       "[5 rows x 21 columns]"
      ]
     },
     "execution_count": 51,
     "metadata": {},
     "output_type": "execute_result"
    }
   ],
   "source": [
    "df.head()"
   ]
  },
  {
   "cell_type": "code",
   "execution_count": 52,
   "metadata": {},
   "outputs": [
    {
     "name": "stdout",
     "output_type": "stream",
     "text": [
      "<class 'pandas.core.frame.DataFrame'>\n",
      "RangeIndex: 7043 entries, 0 to 7042\n",
      "Data columns (total 21 columns):\n",
      " #   Column            Non-Null Count  Dtype  \n",
      "---  ------            --------------  -----  \n",
      " 0   customerID        7043 non-null   object \n",
      " 1   gender            7043 non-null   object \n",
      " 2   SeniorCitizen     7043 non-null   int64  \n",
      " 3   Partner           7043 non-null   object \n",
      " 4   Dependents        7043 non-null   object \n",
      " 5   tenure            7043 non-null   int64  \n",
      " 6   PhoneService      7043 non-null   object \n",
      " 7   MultipleLines     7043 non-null   object \n",
      " 8   InternetService   7043 non-null   object \n",
      " 9   OnlineSecurity    7043 non-null   object \n",
      " 10  OnlineBackup      7043 non-null   object \n",
      " 11  DeviceProtection  7043 non-null   object \n",
      " 12  TechSupport       7043 non-null   object \n",
      " 13  StreamingTV       7043 non-null   object \n",
      " 14  StreamingMovies   7043 non-null   object \n",
      " 15  Contract          7043 non-null   object \n",
      " 16  PaperlessBilling  7043 non-null   object \n",
      " 17  PaymentMethod     7043 non-null   object \n",
      " 18  MonthlyCharges    7043 non-null   float64\n",
      " 19  TotalCharges      7043 non-null   object \n",
      " 20  Churn             7043 non-null   object \n",
      "dtypes: float64(1), int64(2), object(18)\n",
      "memory usage: 1.1+ MB\n"
     ]
    }
   ],
   "source": [
    "df.info()"
   ]
  },
  {
   "cell_type": "code",
   "execution_count": 53,
   "metadata": {},
   "outputs": [],
   "source": [
    "df['TotalCharges'] = pd.to_numeric(df['TotalCharges'], errors = 'coerce')"
   ]
  },
  {
   "cell_type": "code",
   "execution_count": 54,
   "metadata": {},
   "outputs": [
    {
     "data": {
      "text/plain": [
       "customerID           0\n",
       "gender               0\n",
       "SeniorCitizen        0\n",
       "Partner              0\n",
       "Dependents           0\n",
       "tenure               0\n",
       "PhoneService         0\n",
       "MultipleLines        0\n",
       "InternetService      0\n",
       "OnlineSecurity       0\n",
       "OnlineBackup         0\n",
       "DeviceProtection     0\n",
       "TechSupport          0\n",
       "StreamingTV          0\n",
       "StreamingMovies      0\n",
       "Contract             0\n",
       "PaperlessBilling     0\n",
       "PaymentMethod        0\n",
       "MonthlyCharges       0\n",
       "TotalCharges        11\n",
       "Churn                0\n",
       "dtype: int64"
      ]
     },
     "execution_count": 54,
     "metadata": {},
     "output_type": "execute_result"
    }
   ],
   "source": [
    "df.isna().sum()"
   ]
  },
  {
   "cell_type": "code",
   "execution_count": 55,
   "metadata": {},
   "outputs": [],
   "source": [
    "\n",
    "df['TotalCharges'] = df['TotalCharges'].fillna(0)"
   ]
  },
  {
   "cell_type": "code",
   "execution_count": 56,
   "metadata": {},
   "outputs": [
    {
     "data": {
      "text/html": [
       "<div>\n",
       "<style scoped>\n",
       "    .dataframe tbody tr th:only-of-type {\n",
       "        vertical-align: middle;\n",
       "    }\n",
       "\n",
       "    .dataframe tbody tr th {\n",
       "        vertical-align: top;\n",
       "    }\n",
       "\n",
       "    .dataframe thead th {\n",
       "        text-align: right;\n",
       "    }\n",
       "</style>\n",
       "<table border=\"1\" class=\"dataframe\">\n",
       "  <thead>\n",
       "    <tr style=\"text-align: right;\">\n",
       "      <th></th>\n",
       "      <th>SeniorCitizen</th>\n",
       "      <th>tenure</th>\n",
       "      <th>MonthlyCharges</th>\n",
       "      <th>TotalCharges</th>\n",
       "    </tr>\n",
       "  </thead>\n",
       "  <tbody>\n",
       "    <tr>\n",
       "      <th>count</th>\n",
       "      <td>7043.000000</td>\n",
       "      <td>7043.000000</td>\n",
       "      <td>7043.000000</td>\n",
       "      <td>7043.000000</td>\n",
       "    </tr>\n",
       "    <tr>\n",
       "      <th>mean</th>\n",
       "      <td>0.162147</td>\n",
       "      <td>32.371149</td>\n",
       "      <td>64.761692</td>\n",
       "      <td>2279.734304</td>\n",
       "    </tr>\n",
       "    <tr>\n",
       "      <th>std</th>\n",
       "      <td>0.368612</td>\n",
       "      <td>24.559481</td>\n",
       "      <td>30.090047</td>\n",
       "      <td>2266.794470</td>\n",
       "    </tr>\n",
       "    <tr>\n",
       "      <th>min</th>\n",
       "      <td>0.000000</td>\n",
       "      <td>0.000000</td>\n",
       "      <td>18.250000</td>\n",
       "      <td>0.000000</td>\n",
       "    </tr>\n",
       "    <tr>\n",
       "      <th>25%</th>\n",
       "      <td>0.000000</td>\n",
       "      <td>9.000000</td>\n",
       "      <td>35.500000</td>\n",
       "      <td>398.550000</td>\n",
       "    </tr>\n",
       "    <tr>\n",
       "      <th>50%</th>\n",
       "      <td>0.000000</td>\n",
       "      <td>29.000000</td>\n",
       "      <td>70.350000</td>\n",
       "      <td>1394.550000</td>\n",
       "    </tr>\n",
       "    <tr>\n",
       "      <th>75%</th>\n",
       "      <td>0.000000</td>\n",
       "      <td>55.000000</td>\n",
       "      <td>89.850000</td>\n",
       "      <td>3786.600000</td>\n",
       "    </tr>\n",
       "    <tr>\n",
       "      <th>max</th>\n",
       "      <td>1.000000</td>\n",
       "      <td>72.000000</td>\n",
       "      <td>118.750000</td>\n",
       "      <td>8684.800000</td>\n",
       "    </tr>\n",
       "  </tbody>\n",
       "</table>\n",
       "</div>"
      ],
      "text/plain": [
       "       SeniorCitizen       tenure  MonthlyCharges  TotalCharges\n",
       "count    7043.000000  7043.000000     7043.000000   7043.000000\n",
       "mean        0.162147    32.371149       64.761692   2279.734304\n",
       "std         0.368612    24.559481       30.090047   2266.794470\n",
       "min         0.000000     0.000000       18.250000      0.000000\n",
       "25%         0.000000     9.000000       35.500000    398.550000\n",
       "50%         0.000000    29.000000       70.350000   1394.550000\n",
       "75%         0.000000    55.000000       89.850000   3786.600000\n",
       "max         1.000000    72.000000      118.750000   8684.800000"
      ]
     },
     "execution_count": 56,
     "metadata": {},
     "output_type": "execute_result"
    }
   ],
   "source": [
    "df.describe()"
   ]
  },
  {
   "cell_type": "code",
   "execution_count": 57,
   "metadata": {},
   "outputs": [
    {
     "data": {
      "text/plain": [
       "customerID          7043\n",
       "gender                 2\n",
       "SeniorCitizen          2\n",
       "Partner                2\n",
       "Dependents             2\n",
       "tenure                73\n",
       "PhoneService           2\n",
       "MultipleLines          3\n",
       "InternetService        3\n",
       "OnlineSecurity         3\n",
       "OnlineBackup           3\n",
       "DeviceProtection       3\n",
       "TechSupport            3\n",
       "StreamingTV            3\n",
       "StreamingMovies        3\n",
       "Contract               3\n",
       "PaperlessBilling       2\n",
       "PaymentMethod          4\n",
       "MonthlyCharges      1585\n",
       "TotalCharges        6531\n",
       "Churn                  2\n",
       "dtype: int64"
      ]
     },
     "execution_count": 57,
     "metadata": {},
     "output_type": "execute_result"
    }
   ],
   "source": [
    "df.nunique()"
   ]
  },
  {
   "cell_type": "code",
   "execution_count": 58,
   "metadata": {},
   "outputs": [],
   "source": [
    "replace = ['OnlineSecurity', 'OnlineBackup', 'DeviceProtection', \n",
    "            'TechSupport', 'StreamingTV', 'StreamingMovies']\n",
    "\n",
    "for i in replace:\n",
    "    df[i] = df[i].replace({\"No internet service\": \"No\"})"
   ]
  },
  {
   "cell_type": "code",
   "execution_count": 59,
   "metadata": {},
   "outputs": [
    {
     "data": {
      "text/plain": [
       "Text(0.5, 1, 'Tenure Distribution')"
      ]
     },
     "execution_count": 59,
     "metadata": {},
     "output_type": "execute_result"
    },
    {
     "data": {
      "image/png": "[encoded data removed]",
      "text/plain": [
       "<Figure size 432x288 with 1 Axes>"
      ]
     },
     "metadata": {
      "needs_background": "light"
     },
     "output_type": "display_data"
    }
   ],
   "source": [
    "sns.distplot(df['tenure'],bins = 6, kde = False, color = 'red')\n",
    "plt.tight_layout()\n",
    "plt.title(\"Tenure Distribution\")"
   ]
  },
  {
   "cell_type": "code",
   "execution_count": 60,
   "metadata": {},
   "outputs": [],
   "source": [
    "def tenure(x) :\n",
    "    if x[\"tenure\"] <= 12:\n",
    "        return \"0-12\"\n",
    "    elif (x[\"tenure\"] > 12) & (x[\"tenure\"] <= 24 ):\n",
    "        return \"12-24\"\n",
    "    elif (x[\"tenure\"] > 24) & (x[\"tenure\"] <= 36) :\n",
    "        return \"24-36\"\n",
    "    elif (x[\"tenure\"] > 36) & (x[\"tenure\"] <= 48) :\n",
    "        return \"36-48\"\n",
    "    elif (x[\"tenure\"] > 48) & (x[\"tenure\"] <= 60) :\n",
    "        return \"48-60\"\n",
    "    elif x[\"tenure\"] > 60 :\n",
    "        return \">60\"\n",
    "    \n",
    "df[\"tenure\"] = df.apply(lambda x:tenure(x), axis = 1)"
   ]
  },
  {
   "cell_type": "code",
   "execution_count": 61,
   "metadata": {},
   "outputs": [
    {
     "data": {
      "image/png": "[encoded data removed]",
      "text/plain": [
       "<Figure size 360x360 with 1 Axes>"
      ]
     },
     "metadata": {
      "needs_background": "light"
     },
     "output_type": "display_data"
    }
   ],
   "source": [
    "#Customer Churn Distribution using bar chart\n",
    "sns.catplot(x=\"Churn\", kind=\"count\", data=df, order = ['Yes', 'No'])\n",
    "plt.title('Customer Churn Distribution', fontsize=16)\n",
    "plt.show()"
   ]
  },
  {
   "cell_type": "code",
   "execution_count": 62,
   "metadata": {},
   "outputs": [
    {
     "data": {
      "text/plain": [
       "No     5174\n",
       "Yes    1869\n",
       "Name: Churn, dtype: int64"
      ]
     },
     "execution_count": 62,
     "metadata": {},
     "output_type": "execute_result"
    }
   ],
   "source": [
    "df['Churn'].value_counts()"
   ]
  },
  {
   "cell_type": "code",
   "execution_count": 63,
   "metadata": {},
   "outputs": [
    {
     "data": {
      "image/png": "[encoded data removed]",
      "text/plain": [
       "<Figure size 720x360 with 2 Axes>"
      ]
     },
     "metadata": {
      "needs_background": "light"
     },
     "output_type": "display_data"
    }
   ],
   "source": [
    "#Customer churn distribution across gender using bar chart\n",
    "sns.catplot(x=\"gender\", kind = \"count\", data = df, col = \"Churn\", order = ['Male', 'Female'])\n",
    "plt.show()"
   ]
  },
  {
   "cell_type": "code",
   "execution_count": 64,
   "metadata": {},
   "outputs": [
    {
     "data": {
      "image/png": "[encoded data removed]",
      "text/plain": [
       "<Figure size 720x360 with 2 Axes>"
      ]
     },
     "metadata": {
      "needs_background": "light"
     },
     "output_type": "display_data"
    }
   ],
   "source": [
    "#Customer Churn across gender and monthly charges\n",
    "sns.catplot(x=\"gender\", y=\"MonthlyCharges\", kind = \"box\", data = df, col = \"Churn\")\n",
    "plt.show()"
   ]
  },
  {
   "cell_type": "code",
   "execution_count": 65,
   "metadata": {},
   "outputs": [
    {
     "data": {
      "image/png": "[encoded data removed]",
      "text/plain": [
       "<Figure size 720x360 with 2 Axes>"
      ]
     },
     "metadata": {
      "needs_background": "light"
     },
     "output_type": "display_data"
    }
   ],
   "source": [
    "#Customer churn across Senior Citizen category\n",
    "sns.catplot(x=\"SeniorCitizen\", kind = \"count\", data = df, col = \"Churn\")\n",
    "plt.show()"
   ]
  },
  {
   "cell_type": "code",
   "execution_count": 66,
   "metadata": {},
   "outputs": [],
   "source": [
    "#Converting Binary categorical variables \n",
    "binary = ['Partner', 'Dependents', 'PhoneService', 'OnlineSecurity', 'OnlineBackup', 'DeviceProtection', 'TechSupport',\n",
    "      'StreamingTV', 'StreamingMovies', 'PaperlessBilling', 'Churn']\n",
    "for i in binary:\n",
    "    df[i] = df[i].map(lambda x: 1 if x == \"Yes\" else 0)"
   ]
  },
  {
   "cell_type": "code",
   "execution_count": 67,
   "metadata": {},
   "outputs": [],
   "source": [
    "#One-hot encoding the categorical variables\n",
    "data = pd.get_dummies(df, columns=['gender', 'MultipleLines', 'InternetService', 'Contract', 'PaymentMethod'])\n",
    "\n",
    "#Drop the irrelevant variables to build the model\n",
    "data = data.drop([\"customerID\", \"gender_Female\", \"MultipleLines_No phone service\", \"InternetService_No\", \"Contract_Two year\",\n",
    "                 \"PaymentMethod_Mailed check\"], axis = 1)"
   ]
  },
  {
   "cell_type": "code",
   "execution_count": 68,
   "metadata": {},
   "outputs": [
    {
     "data": {
      "text/html": [
       "<div>\n",
       "<style scoped>\n",
       "    .dataframe tbody tr th:only-of-type {\n",
       "        vertical-align: middle;\n",
       "    }\n",
       "\n",
       "    .dataframe tbody tr th {\n",
       "        vertical-align: top;\n",
       "    }\n",
       "\n",
       "    .dataframe thead th {\n",
       "        text-align: right;\n",
       "    }\n",
       "</style>\n",
       "<table border=\"1\" class=\"dataframe\">\n",
       "  <thead>\n",
       "    <tr style=\"text-align: right;\">\n",
       "      <th></th>\n",
       "      <th>SeniorCitizen</th>\n",
       "      <th>Partner</th>\n",
       "      <th>Dependents</th>\n",
       "      <th>tenure</th>\n",
       "      <th>PhoneService</th>\n",
       "      <th>OnlineSecurity</th>\n",
       "      <th>OnlineBackup</th>\n",
       "      <th>DeviceProtection</th>\n",
       "      <th>TechSupport</th>\n",
       "      <th>StreamingTV</th>\n",
       "      <th>...</th>\n",
       "      <th>gender_Male</th>\n",
       "      <th>MultipleLines_No</th>\n",
       "      <th>MultipleLines_Yes</th>\n",
       "      <th>InternetService_DSL</th>\n",
       "      <th>InternetService_Fiber optic</th>\n",
       "      <th>Contract_Month-to-month</th>\n",
       "      <th>Contract_One year</th>\n",
       "      <th>PaymentMethod_Bank transfer (automatic)</th>\n",
       "      <th>PaymentMethod_Credit card (automatic)</th>\n",
       "      <th>PaymentMethod_Electronic check</th>\n",
       "    </tr>\n",
       "  </thead>\n",
       "  <tbody>\n",
       "    <tr>\n",
       "      <th>0</th>\n",
       "      <td>0</td>\n",
       "      <td>1</td>\n",
       "      <td>0</td>\n",
       "      <td>0</td>\n",
       "      <td>0</td>\n",
       "      <td>0</td>\n",
       "      <td>1</td>\n",
       "      <td>0</td>\n",
       "      <td>0</td>\n",
       "      <td>0</td>\n",
       "      <td>...</td>\n",
       "      <td>0</td>\n",
       "      <td>0</td>\n",
       "      <td>0</td>\n",
       "      <td>1</td>\n",
       "      <td>0</td>\n",
       "      <td>1</td>\n",
       "      <td>0</td>\n",
       "      <td>0</td>\n",
       "      <td>0</td>\n",
       "      <td>1</td>\n",
       "    </tr>\n",
       "    <tr>\n",
       "      <th>1</th>\n",
       "      <td>0</td>\n",
       "      <td>0</td>\n",
       "      <td>0</td>\n",
       "      <td>2</td>\n",
       "      <td>1</td>\n",
       "      <td>1</td>\n",
       "      <td>0</td>\n",
       "      <td>1</td>\n",
       "      <td>0</td>\n",
       "      <td>0</td>\n",
       "      <td>...</td>\n",
       "      <td>1</td>\n",
       "      <td>1</td>\n",
       "      <td>0</td>\n",
       "      <td>1</td>\n",
       "      <td>0</td>\n",
       "      <td>0</td>\n",
       "      <td>1</td>\n",
       "      <td>0</td>\n",
       "      <td>0</td>\n",
       "      <td>0</td>\n",
       "    </tr>\n",
       "    <tr>\n",
       "      <th>2</th>\n",
       "      <td>0</td>\n",
       "      <td>0</td>\n",
       "      <td>0</td>\n",
       "      <td>0</td>\n",
       "      <td>1</td>\n",
       "      <td>1</td>\n",
       "      <td>1</td>\n",
       "      <td>0</td>\n",
       "      <td>0</td>\n",
       "      <td>0</td>\n",
       "      <td>...</td>\n",
       "      <td>1</td>\n",
       "      <td>1</td>\n",
       "      <td>0</td>\n",
       "      <td>1</td>\n",
       "      <td>0</td>\n",
       "      <td>1</td>\n",
       "      <td>0</td>\n",
       "      <td>0</td>\n",
       "      <td>0</td>\n",
       "      <td>0</td>\n",
       "    </tr>\n",
       "    <tr>\n",
       "      <th>3</th>\n",
       "      <td>0</td>\n",
       "      <td>0</td>\n",
       "      <td>0</td>\n",
       "      <td>3</td>\n",
       "      <td>0</td>\n",
       "      <td>1</td>\n",
       "      <td>0</td>\n",
       "      <td>1</td>\n",
       "      <td>1</td>\n",
       "      <td>0</td>\n",
       "      <td>...</td>\n",
       "      <td>1</td>\n",
       "      <td>0</td>\n",
       "      <td>0</td>\n",
       "      <td>1</td>\n",
       "      <td>0</td>\n",
       "      <td>0</td>\n",
       "      <td>1</td>\n",
       "      <td>1</td>\n",
       "      <td>0</td>\n",
       "      <td>0</td>\n",
       "    </tr>\n",
       "    <tr>\n",
       "      <th>4</th>\n",
       "      <td>0</td>\n",
       "      <td>0</td>\n",
       "      <td>0</td>\n",
       "      <td>0</td>\n",
       "      <td>1</td>\n",
       "      <td>0</td>\n",
       "      <td>0</td>\n",
       "      <td>0</td>\n",
       "      <td>0</td>\n",
       "      <td>0</td>\n",
       "      <td>...</td>\n",
       "      <td>0</td>\n",
       "      <td>1</td>\n",
       "      <td>0</td>\n",
       "      <td>0</td>\n",
       "      <td>1</td>\n",
       "      <td>1</td>\n",
       "      <td>0</td>\n",
       "      <td>0</td>\n",
       "      <td>0</td>\n",
       "      <td>1</td>\n",
       "    </tr>\n",
       "  </tbody>\n",
       "</table>\n",
       "<p>5 rows × 25 columns</p>\n",
       "</div>"
      ],
      "text/plain": [
       "   SeniorCitizen  Partner  Dependents  tenure  PhoneService  OnlineSecurity  \\\n",
       "0              0        1           0       0             0               0   \n",
       "1              0        0           0       2             1               1   \n",
       "2              0        0           0       0             1               1   \n",
       "3              0        0           0       3             0               1   \n",
       "4              0        0           0       0             1               0   \n",
       "\n",
       "   OnlineBackup  DeviceProtection  TechSupport  StreamingTV  ...  gender_Male  \\\n",
       "0             1                 0            0            0  ...            0   \n",
       "1             0                 1            0            0  ...            1   \n",
       "2             1                 0            0            0  ...            1   \n",
       "3             0                 1            1            0  ...            1   \n",
       "4             0                 0            0            0  ...            0   \n",
       "\n",
       "   MultipleLines_No  MultipleLines_Yes  InternetService_DSL  \\\n",
       "0                 0                  0                    1   \n",
       "1                 1                  0                    1   \n",
       "2                 1                  0                    1   \n",
       "3                 0                  0                    1   \n",
       "4                 1                  0                    0   \n",
       "\n",
       "   InternetService_Fiber optic  Contract_Month-to-month  Contract_One year  \\\n",
       "0                            0                        1                  0   \n",
       "1                            0                        0                  1   \n",
       "2                            0                        1                  0   \n",
       "3                            0                        0                  1   \n",
       "4                            1                        1                  0   \n",
       "\n",
       "   PaymentMethod_Bank transfer (automatic)  \\\n",
       "0                                        0   \n",
       "1                                        0   \n",
       "2                                        0   \n",
       "3                                        1   \n",
       "4                                        0   \n",
       "\n",
       "   PaymentMethod_Credit card (automatic)  PaymentMethod_Electronic check  \n",
       "0                                      0                               1  \n",
       "1                                      0                               0  \n",
       "2                                      0                               0  \n",
       "3                                      0                               0  \n",
       "4                                      0                               1  \n",
       "\n",
       "[5 rows x 25 columns]"
      ]
     },
     "execution_count": 68,
     "metadata": {},
     "output_type": "execute_result"
    }
   ],
   "source": [
    "#label Encoding 'tenure' variable\n",
    "from sklearn.preprocessing import LabelEncoder\n",
    "le = LabelEncoder()\n",
    "data['tenure'] = le.fit_transform(df['tenure'])\n",
    "data.head()"
   ]
  },
  {
   "cell_type": "code",
   "execution_count": 69,
   "metadata": {},
   "outputs": [
    {
     "data": {
      "text/plain": [
       "<matplotlib.axes._subplots.AxesSubplot at 0x1a7e9ed0e48>"
      ]
     },
     "execution_count": 69,
     "metadata": {},
     "output_type": "execute_result"
    },
    {
     "data": {
      "image/png": "[encoded data removed]",
      "text/plain": [
       "<Figure size 864x720 with 2 Axes>"
      ]
     },
     "metadata": {
      "needs_background": "light"
     },
     "output_type": "display_data"
    }
   ],
   "source": [
    "#Correlation across all features\n",
    "corr = data.corr()\n",
    "plt.figure(figsize=(12,10))\n",
    "sns.heatmap(corr, linewidths=.2)"
   ]
  },
  {
   "cell_type": "code",
   "execution_count": 70,
   "metadata": {},
   "outputs": [],
   "source": [
    "#Divide data into train and test sets.\n",
    "from sklearn.model_selection import train_test_split\n",
    "\n",
    "X_train, X_test, Y_train, Y_test = train_test_split(data.drop('Churn', axis = 1), data['Churn'], \n",
    "                                                    test_size = 0.3, random_state = 123)"
   ]
  },
  {
   "cell_type": "code",
   "execution_count": 71,
   "metadata": {},
   "outputs": [],
   "source": [
    "#Fit Logistic Regression on training data\n",
    "from sklearn.linear_model import LogisticRegression\n",
    "\n",
    "logit = LogisticRegression()\n",
    "logit.fit(X_train, Y_train)\n",
    "prediction = logit.predict(X_test)"
   ]
  },
  {
   "cell_type": "code",
   "execution_count": 72,
   "metadata": {},
   "outputs": [
    {
     "name": "stdout",
     "output_type": "stream",
     "text": [
      "Accuracy score:  0.7898722195929957\n",
      "Precision score:  0.6644144144144144\n",
      "Recall score: 0.5\n",
      "F1 score: 0.5705996131528046\n"
     ]
    }
   ],
   "source": [
    "from sklearn.metrics import accuracy_score, precision_score, recall_score, f1_score\n",
    "\n",
    "print(\"Accuracy score: \", accuracy_score(Y_test, prediction))\n",
    "print(\"Precision score: \", precision_score(Y_test, prediction))\n",
    "print(\"Recall score:\", recall_score(Y_test, prediction))\n",
    "print(\"F1 score:\", f1_score(Y_test, prediction))"
   ]
  },
  {
   "cell_type": "code",
   "execution_count": 73,
   "metadata": {},
   "outputs": [
    {
     "data": {
      "text/html": [
       "<div>\n",
       "<style scoped>\n",
       "    .dataframe tbody tr th:only-of-type {\n",
       "        vertical-align: middle;\n",
       "    }\n",
       "\n",
       "    .dataframe tbody tr th {\n",
       "        vertical-align: top;\n",
       "    }\n",
       "\n",
       "    .dataframe thead th {\n",
       "        text-align: right;\n",
       "    }\n",
       "</style>\n",
       "<table border=\"1\" class=\"dataframe\">\n",
       "  <thead>\n",
       "    <tr style=\"text-align: right;\">\n",
       "      <th></th>\n",
       "      <th>Predicted Not Churn</th>\n",
       "      <th>Predicted Churn</th>\n",
       "    </tr>\n",
       "  </thead>\n",
       "  <tbody>\n",
       "    <tr>\n",
       "      <th>Actual Not Churn</th>\n",
       "      <td>1374</td>\n",
       "      <td>149</td>\n",
       "    </tr>\n",
       "    <tr>\n",
       "      <th>Actual Churn</th>\n",
       "      <td>295</td>\n",
       "      <td>295</td>\n",
       "    </tr>\n",
       "  </tbody>\n",
       "</table>\n",
       "</div>"
      ],
      "text/plain": [
       "                  Predicted Not Churn  Predicted Churn\n",
       "Actual Not Churn                 1374              149\n",
       "Actual Churn                      295              295"
      ]
     },
     "execution_count": 73,
     "metadata": {},
     "output_type": "execute_result"
    }
   ],
   "source": [
    "#Calculate Confusion Matrix\n",
    "from sklearn.metrics import confusion_matrix\n",
    "\n",
    "confusion_mat = confusion_matrix(Y_test, prediction)\n",
    "confusion_df = pd.DataFrame(confusion_mat, index = ['Actual Not Churn', 'Actual Churn'], \n",
    "                            columns = ['Predicted Not Churn','Predicted Churn'])\n",
    "confusion_df"
   ]
  },
  {
   "cell_type": "code",
   "execution_count": 74,
   "metadata": {},
   "outputs": [
    {
     "name": "stdout",
     "output_type": "stream",
     "text": [
      "0.8280657043969863\n"
     ]
    }
   ],
   "source": [
    "#Calculate Area under the ROC curve and also plot the ROC curve\n",
    "from sklearn.metrics import roc_curve, roc_auc_score\n",
    "probs = logit.predict_proba(X_test)[::,1]\n",
    "auc = roc_auc_score(Y_test, probs)\n",
    "print(auc)"
   ]
  },
  {
   "cell_type": "code",
   "execution_count": 75,
   "metadata": {},
   "outputs": [
    {
     "data": {
      "image/png": "[encoded data removed]",
      "text/plain": [
       "<Figure size 432x288 with 1 Axes>"
      ]
     },
     "metadata": {
      "needs_background": "light"
     },
     "output_type": "display_data"
    }
   ],
   "source": [
    "fpr, tpr, threshold = roc_curve(Y_test, probs)\n",
    "plt.title(\"Receiver Operating Characteristic\")\n",
    "plt.plot(fpr, tpr, 'b', label = 'AUC = %0.2f'%auc)\n",
    "plt.legend(loc = 'lower right')\n",
    "plt.plot([0,1], [0,1], 'r--')\n",
    "plt.xlim([0,1])\n",
    "plt.ylim([0,1])\n",
    "plt.ylabel('True Positive Rate')\n",
    "plt.xlabel('False Positive Rate')\n",
    "plt.show()"
   ]
  },
  {
   "cell_type": "code",
   "execution_count": 76,
   "metadata": {},
   "outputs": [
    {
     "data": {
      "text/plain": [
       "0.26590474429862954"
      ]
     },
     "execution_count": 76,
     "metadata": {},
     "output_type": "execute_result"
    }
   ],
   "source": [
    "optimal_idx = np.argmax(tpr - fpr)\n",
    "optimal_threshold = threshold[optimal_idx]\n",
    "\n",
    "optimal_threshold"
   ]
  },
  {
   "cell_type": "code",
   "execution_count": 77,
   "metadata": {},
   "outputs": [
    {
     "data": {
      "text/html": [
       "<div>\n",
       "<style scoped>\n",
       "    .dataframe tbody tr th:only-of-type {\n",
       "        vertical-align: middle;\n",
       "    }\n",
       "\n",
       "    .dataframe tbody tr th {\n",
       "        vertical-align: top;\n",
       "    }\n",
       "\n",
       "    .dataframe thead th {\n",
       "        text-align: right;\n",
       "    }\n",
       "</style>\n",
       "<table border=\"1\" class=\"dataframe\">\n",
       "  <thead>\n",
       "    <tr style=\"text-align: right;\">\n",
       "      <th></th>\n",
       "      <th>Predicted Not Churn</th>\n",
       "      <th>Predicted Churn</th>\n",
       "    </tr>\n",
       "  </thead>\n",
       "  <tbody>\n",
       "    <tr>\n",
       "      <th>Actual Not Churn</th>\n",
       "      <td>1140</td>\n",
       "      <td>383</td>\n",
       "    </tr>\n",
       "    <tr>\n",
       "      <th>Actual Churn</th>\n",
       "      <td>138</td>\n",
       "      <td>452</td>\n",
       "    </tr>\n",
       "  </tbody>\n",
       "</table>\n",
       "</div>"
      ],
      "text/plain": [
       "                  Predicted Not Churn  Predicted Churn\n",
       "Actual Not Churn                 1140              383\n",
       "Actual Churn                      138              452"
      ]
     },
     "execution_count": 77,
     "metadata": {},
     "output_type": "execute_result"
    }
   ],
   "source": [
    "#Updata model based on optimal probability threshold\n",
    "new_prediction = np.where(probs>optimal_threshold, 1, 0)\n",
    "new_confusion_mat = confusion_matrix(Y_test, new_prediction)\n",
    "new_confusion_df = pd.DataFrame(new_confusion_mat, index = ['Actual Not Churn', 'Actual Churn'], \n",
    "                            columns = ['Predicted Not Churn','Predicted Churn'])\n",
    "new_confusion_df"
   ]
  },
  {
   "cell_type": "code",
   "execution_count": 78,
   "metadata": {},
   "outputs": [
    {
     "name": "stdout",
     "output_type": "stream",
     "text": [
      "Accuracy score:  0.7534311405584477\n",
      "Precision score:  0.5413173652694611\n",
      "Recall score: 0.7661016949152543\n",
      "F1 score: 0.6343859649122807\n",
      "ROC_AUC score: 0.7573121737872397\n"
     ]
    }
   ],
   "source": [
    "print(\"Accuracy score: \", accuracy_score(Y_test, new_prediction))\n",
    "print(\"Precision score: \", precision_score(Y_test, new_prediction))\n",
    "print(\"Recall score:\", recall_score(Y_test, new_prediction))\n",
    "print(\"F1 score:\", f1_score(Y_test, new_prediction))\n",
    "print(\"ROC_AUC score:\", roc_auc_score(Y_test, new_prediction))"
   ]
  },
  {
   "cell_type": "code",
   "execution_count": 79,
   "metadata": {},
   "outputs": [
    {
     "data": {
      "text/plain": [
       "{'max_depth': 5, 'max_features': 5}"
      ]
     },
     "execution_count": 79,
     "metadata": {},
     "output_type": "execute_result"
    }
   ],
   "source": [
    "#Fit Decision Tree on training data\n",
    "from sklearn.tree import DecisionTreeClassifier\n",
    "from sklearn.model_selection import GridSearchCV\n",
    "\n",
    "param_grid = [{'max_depth':[3,4,5,6,None], 'max_features':[4,5,6,7,8]}]\n",
    "gs = GridSearchCV(estimator=DecisionTreeClassifier(random_state = 123), param_grid=param_grid, cv = 10)\n",
    "gs.fit(X_train, Y_train)\n",
    "prediction2 = gs.predict(X_test)\n",
    "gs.best_params_"
   ]
  },
  {
   "cell_type": "code",
   "execution_count": 80,
   "metadata": {},
   "outputs": [
    {
     "data": {
      "text/html": [
       "<div>\n",
       "<style scoped>\n",
       "    .dataframe tbody tr th:only-of-type {\n",
       "        vertical-align: middle;\n",
       "    }\n",
       "\n",
       "    .dataframe tbody tr th {\n",
       "        vertical-align: top;\n",
       "    }\n",
       "\n",
       "    .dataframe thead th {\n",
       "        text-align: right;\n",
       "    }\n",
       "</style>\n",
       "<table border=\"1\" class=\"dataframe\">\n",
       "  <thead>\n",
       "    <tr style=\"text-align: right;\">\n",
       "      <th></th>\n",
       "      <th>Predicted Not Churn</th>\n",
       "      <th>Predicted Churn</th>\n",
       "    </tr>\n",
       "  </thead>\n",
       "  <tbody>\n",
       "    <tr>\n",
       "      <th>Actual Not Churn</th>\n",
       "      <td>1394</td>\n",
       "      <td>129</td>\n",
       "    </tr>\n",
       "    <tr>\n",
       "      <th>Actual Churn</th>\n",
       "      <td>351</td>\n",
       "      <td>239</td>\n",
       "    </tr>\n",
       "  </tbody>\n",
       "</table>\n",
       "</div>"
      ],
      "text/plain": [
       "                  Predicted Not Churn  Predicted Churn\n",
       "Actual Not Churn                 1394              129\n",
       "Actual Churn                      351              239"
      ]
     },
     "execution_count": 80,
     "metadata": {},
     "output_type": "execute_result"
    }
   ],
   "source": [
    "#Calculate confusion matrix\n",
    "confusion_mat = confusion_matrix(Y_test, prediction2)\n",
    "confusion_df2 = pd.DataFrame(confusion_mat, index = ['Actual Not Churn', 'Actual Churn'], \n",
    "                            columns = ['Predicted Not Churn','Predicted Churn'])\n",
    "confusion_df2"
   ]
  },
  {
   "cell_type": "code",
   "execution_count": 81,
   "metadata": {},
   "outputs": [
    {
     "name": "stdout",
     "output_type": "stream",
     "text": [
      "Accuracy score:  0.7728348319924279\n",
      "Precision score:  0.6494565217391305\n",
      "Recall score: 0.40508474576271186\n",
      "F1 score: 0.4989561586638831\n",
      "ROC_AUC score: 0.6601917491124787\n"
     ]
    }
   ],
   "source": [
    "#Calculate metrics\n",
    "print(\"Accuracy score: \", accuracy_score(Y_test, prediction2))\n",
    "print(\"Precision score: \", precision_score(Y_test, prediction2))\n",
    "print(\"Recall score:\", recall_score(Y_test, prediction2))\n",
    "print(\"F1 score:\", f1_score(Y_test, prediction2))\n",
    "print(\"ROC_AUC score:\", roc_auc_score(Y_test, prediction2))"
   ]
  },
  {
   "cell_type": "code",
   "execution_count": 82,
   "metadata": {},
   "outputs": [
    {
     "data": {
      "text/plain": [
       "BaggingClassifier(base_estimator=DecisionTreeClassifier(ccp_alpha=0.0,\n",
       "                                                        class_weight=None,\n",
       "                                                        criterion='gini',\n",
       "                                                        max_depth=None,\n",
       "                                                        max_features=None,\n",
       "                                                        max_leaf_nodes=None,\n",
       "                                                        min_impurity_decrease=0.0,\n",
       "                                                        min_impurity_split=None,\n",
       "                                                        min_samples_leaf=1,\n",
       "                                                        min_samples_split=2,\n",
       "                                                        min_weight_fraction_leaf=0.0,\n",
       "                                                        presort='deprecated',\n",
       "                                                        random_state=None,\n",
       "                                                        splitter='best'),\n",
       "                  bootstrap=True, bootstrap_features=False, max_features=1.0,\n",
       "                  max_samples=100, n_estimators=500, n_jobs=-1, oob_score=False,\n",
       "                  random_state=None, verbose=0, warm_start=False)"
      ]
     },
     "execution_count": 82,
     "metadata": {},
     "output_type": "execute_result"
    }
   ],
   "source": [
    "from sklearn.ensemble import BaggingClassifier\n",
    "\n",
    "bagged_model = BaggingClassifier(DecisionTreeClassifier(), n_estimators=500, max_samples=100, bootstrap=True, n_jobs=-1)\n",
    "bagged_model.fit(X_train, Y_train)"
   ]
  },
  {
   "cell_type": "code",
   "execution_count": 83,
   "metadata": {},
   "outputs": [],
   "source": [
    "prediction3 = bagged_model.predict(X_test)"
   ]
  },
  {
   "cell_type": "code",
   "execution_count": 84,
   "metadata": {},
   "outputs": [
    {
     "data": {
      "text/html": [
       "<div>\n",
       "<style scoped>\n",
       "    .dataframe tbody tr th:only-of-type {\n",
       "        vertical-align: middle;\n",
       "    }\n",
       "\n",
       "    .dataframe tbody tr th {\n",
       "        vertical-align: top;\n",
       "    }\n",
       "\n",
       "    .dataframe thead th {\n",
       "        text-align: right;\n",
       "    }\n",
       "</style>\n",
       "<table border=\"1\" class=\"dataframe\">\n",
       "  <thead>\n",
       "    <tr style=\"text-align: right;\">\n",
       "      <th></th>\n",
       "      <th>Predicted Not Churn</th>\n",
       "      <th>Predicted Churn</th>\n",
       "    </tr>\n",
       "  </thead>\n",
       "  <tbody>\n",
       "    <tr>\n",
       "      <th>Actual Not Churn</th>\n",
       "      <td>1405</td>\n",
       "      <td>118</td>\n",
       "    </tr>\n",
       "    <tr>\n",
       "      <th>Actual Churn</th>\n",
       "      <td>325</td>\n",
       "      <td>265</td>\n",
       "    </tr>\n",
       "  </tbody>\n",
       "</table>\n",
       "</div>"
      ],
      "text/plain": [
       "                  Predicted Not Churn  Predicted Churn\n",
       "Actual Not Churn                 1405              118\n",
       "Actual Churn                      325              265"
      ]
     },
     "execution_count": 84,
     "metadata": {},
     "output_type": "execute_result"
    }
   ],
   "source": [
    "#Calculate confusion matrix\n",
    "confusion_mat = confusion_matrix(Y_test, prediction3)\n",
    "confusion_df3 = pd.DataFrame(confusion_mat, index = ['Actual Not Churn', 'Actual Churn'], \n",
    "                            columns = ['Predicted Not Churn','Predicted Churn'])\n",
    "confusion_df3"
   ]
  },
  {
   "cell_type": "code",
   "execution_count": 85,
   "metadata": {},
   "outputs": [
    {
     "name": "stdout",
     "output_type": "stream",
     "text": [
      "Accuracy score:  0.7903454803596782\n",
      "Precision score:  0.6919060052219321\n",
      "Recall score: 0.4491525423728814\n",
      "F1 score: 0.5447070914696813\n",
      "ROC_AUC score: 0.6858369409172352\n"
     ]
    }
   ],
   "source": [
    "#Calculate metrics\n",
    "print(\"Accuracy score: \", accuracy_score(Y_test, prediction3))\n",
    "print(\"Precision score: \", precision_score(Y_test, prediction3))\n",
    "print(\"Recall score:\", recall_score(Y_test, prediction3))\n",
    "print(\"F1 score:\", f1_score(Y_test, prediction3))\n",
    "print(\"ROC_AUC score:\", roc_auc_score(Y_test, prediction3))"
   ]
  },
  {
   "cell_type": "code",
   "execution_count": 86,
   "metadata": {},
   "outputs": [],
   "source": [
    "from sklearn.ensemble import RandomForestClassifier\n",
    "\n",
    "rf_model = RandomForestClassifier(n_estimators=500, n_jobs= -1)\n",
    "rf_model.fit(X_train, Y_train)\n",
    "prediction4 = rf_model.predict(X_test)"
   ]
  },
  {
   "cell_type": "code",
   "execution_count": 87,
   "metadata": {},
   "outputs": [],
   "source": [
    "data1 = data.drop(\"Churn\", axis = 1).columns"
   ]
  },
  {
   "cell_type": "code",
   "execution_count": 88,
   "metadata": {},
   "outputs": [
    {
     "data": {
      "text/plain": [
       "[(0.21772573967142408, 'TotalCharges'),\n",
       " (0.1971491490785421, 'MonthlyCharges'),\n",
       " (0.0822325849076401, 'tenure'),\n",
       " (0.06941191064050242, 'Contract_Month-to-month'),\n",
       " (0.041255126220180946, 'InternetService_Fiber optic'),\n",
       " (0.040013882723876903, 'PaymentMethod_Electronic check'),\n",
       " (0.03079891393890443, 'gender_Male'),\n",
       " (0.02861541281810921, 'PaperlessBilling'),\n",
       " (0.02689447037757584, 'OnlineSecurity'),\n",
       " (0.025812641645363402, 'Partner'),\n",
       " (0.023825550866238665, 'OnlineBackup'),\n",
       " (0.02343420617735802, 'SeniorCitizen'),\n",
       " (0.021858786497549156, 'DeviceProtection'),\n",
       " (0.021797435684711153, 'TechSupport'),\n",
       " (0.020875256371781486, 'Dependents'),\n",
       " (0.02022180030258427, 'StreamingTV'),\n",
       " (0.019670036938358493, 'StreamingMovies'),\n",
       " (0.014891319858628072, 'PaymentMethod_Bank transfer (automatic)'),\n",
       " (0.014871692457510818, 'MultipleLines_No'),\n",
       " (0.014665310081266458, 'PaymentMethod_Credit card (automatic)'),\n",
       " (0.01406154038756179, 'MultipleLines_Yes'),\n",
       " (0.012310782749800702, 'InternetService_DSL'),\n",
       " (0.011886814286657797, 'Contract_One year'),\n",
       " (0.005719635317873608, 'PhoneService')]"
      ]
     },
     "execution_count": 88,
     "metadata": {},
     "output_type": "execute_result"
    }
   ],
   "source": [
    "features_list = []\n",
    "for name, score in zip(data1, rf_model.feature_importances_):\n",
    "    features_list.append((score, name))\n",
    "    \n",
    "sorted(features_list, reverse=True)"
   ]
  },
  {
   "cell_type": "code",
   "execution_count": 89,
   "metadata": {},
   "outputs": [
    {
     "data": {
      "text/html": [
       "<div>\n",
       "<style scoped>\n",
       "    .dataframe tbody tr th:only-of-type {\n",
       "        vertical-align: middle;\n",
       "    }\n",
       "\n",
       "    .dataframe tbody tr th {\n",
       "        vertical-align: top;\n",
       "    }\n",
       "\n",
       "    .dataframe thead th {\n",
       "        text-align: right;\n",
       "    }\n",
       "</style>\n",
       "<table border=\"1\" class=\"dataframe\">\n",
       "  <thead>\n",
       "    <tr style=\"text-align: right;\">\n",
       "      <th></th>\n",
       "      <th>Predicted Not Churn</th>\n",
       "      <th>Predicted Churn</th>\n",
       "    </tr>\n",
       "  </thead>\n",
       "  <tbody>\n",
       "    <tr>\n",
       "      <th>Actual Not Churn</th>\n",
       "      <td>1383</td>\n",
       "      <td>140</td>\n",
       "    </tr>\n",
       "    <tr>\n",
       "      <th>Actual Churn</th>\n",
       "      <td>307</td>\n",
       "      <td>283</td>\n",
       "    </tr>\n",
       "  </tbody>\n",
       "</table>\n",
       "</div>"
      ],
      "text/plain": [
       "                  Predicted Not Churn  Predicted Churn\n",
       "Actual Not Churn                 1383              140\n",
       "Actual Churn                      307              283"
      ]
     },
     "execution_count": 89,
     "metadata": {},
     "output_type": "execute_result"
    }
   ],
   "source": [
    "#Calculate confusion matrix\n",
    "confusion_mat = confusion_matrix(Y_test, prediction4)\n",
    "confusion_df4 = pd.DataFrame(confusion_mat, index = ['Actual Not Churn', 'Actual Churn'], \n",
    "                            columns = ['Predicted Not Churn','Predicted Churn'])\n",
    "confusion_df4"
   ]
  },
  {
   "cell_type": "code",
   "execution_count": 90,
   "metadata": {},
   "outputs": [
    {
     "name": "stdout",
     "output_type": "stream",
     "text": [
      "Accuracy score:  0.7884524372929484\n",
      "Precision score:  0.6690307328605201\n",
      "Recall score: 0.47966101694915253\n",
      "F1 score: 0.5587364264560711\n",
      "ROC_AUC score: 0.6938685912060273\n"
     ]
    }
   ],
   "source": [
    "#Calculate metrics\n",
    "print(\"Accuracy score: \", accuracy_score(Y_test, prediction4))\n",
    "print(\"Precision score: \", precision_score(Y_test, prediction4))\n",
    "print(\"Recall score:\", recall_score(Y_test, prediction4))\n",
    "print(\"F1 score:\", f1_score(Y_test, prediction4))\n",
    "print(\"ROC_AUC score:\", roc_auc_score(Y_test, prediction4))"
   ]
  },
  {
   "cell_type": "code",
   "execution_count": 91,
   "metadata": {},
   "outputs": [],
   "source": [
    "from sklearn.ensemble import GradientBoostingClassifier\n",
    "\n",
    "gb_model = GradientBoostingClassifier(max_depth=2, n_estimators=250, learning_rate=0.01, random_state=123)\n",
    "gb_model.fit(X_train, Y_train)\n",
    "prediction5 = gb_model.predict(X_test)"
   ]
  },
  {
   "cell_type": "code",
   "execution_count": 92,
   "metadata": {},
   "outputs": [
    {
     "data": {
      "text/plain": [
       "[(0.21772573967142408, 'TotalCharges'),\n",
       " (0.1971491490785421, 'MonthlyCharges'),\n",
       " (0.0822325849076401, 'tenure'),\n",
       " (0.06941191064050242, 'Contract_Month-to-month'),\n",
       " (0.041255126220180946, 'InternetService_Fiber optic'),\n",
       " (0.040013882723876903, 'PaymentMethod_Electronic check'),\n",
       " (0.03079891393890443, 'gender_Male'),\n",
       " (0.02861541281810921, 'PaperlessBilling'),\n",
       " (0.02689447037757584, 'OnlineSecurity'),\n",
       " (0.025812641645363402, 'Partner'),\n",
       " (0.023825550866238665, 'OnlineBackup'),\n",
       " (0.02343420617735802, 'SeniorCitizen'),\n",
       " (0.021858786497549156, 'DeviceProtection'),\n",
       " (0.021797435684711153, 'TechSupport'),\n",
       " (0.020875256371781486, 'Dependents'),\n",
       " (0.02022180030258427, 'StreamingTV'),\n",
       " (0.019670036938358493, 'StreamingMovies'),\n",
       " (0.014891319858628072, 'PaymentMethod_Bank transfer (automatic)'),\n",
       " (0.014871692457510818, 'MultipleLines_No'),\n",
       " (0.014665310081266458, 'PaymentMethod_Credit card (automatic)'),\n",
       " (0.01406154038756179, 'MultipleLines_Yes'),\n",
       " (0.012310782749800702, 'InternetService_DSL'),\n",
       " (0.011886814286657797, 'Contract_One year'),\n",
       " (0.005719635317873608, 'PhoneService')]"
      ]
     },
     "execution_count": 92,
     "metadata": {},
     "output_type": "execute_result"
    }
   ],
   "source": [
    "feature_list = []\n",
    "for name, score in zip(data1, gb_model.feature_importances_):\n",
    "    feature_list.append((score, name))\n",
    "\n",
    "sorted(features_list, reverse=True)"
   ]
  },
  {
   "cell_type": "code",
   "execution_count": 93,
   "metadata": {},
   "outputs": [
    {
     "data": {
      "text/html": [
       "<div>\n",
       "<style scoped>\n",
       "    .dataframe tbody tr th:only-of-type {\n",
       "        vertical-align: middle;\n",
       "    }\n",
       "\n",
       "    .dataframe tbody tr th {\n",
       "        vertical-align: top;\n",
       "    }\n",
       "\n",
       "    .dataframe thead th {\n",
       "        text-align: right;\n",
       "    }\n",
       "</style>\n",
       "<table border=\"1\" class=\"dataframe\">\n",
       "  <thead>\n",
       "    <tr style=\"text-align: right;\">\n",
       "      <th></th>\n",
       "      <th>Predicted Not Churn</th>\n",
       "      <th>Predicted Churn</th>\n",
       "    </tr>\n",
       "  </thead>\n",
       "  <tbody>\n",
       "    <tr>\n",
       "      <th>Actual Not Churn</th>\n",
       "      <td>1436</td>\n",
       "      <td>87</td>\n",
       "    </tr>\n",
       "    <tr>\n",
       "      <th>Actual Churn</th>\n",
       "      <td>388</td>\n",
       "      <td>202</td>\n",
       "    </tr>\n",
       "  </tbody>\n",
       "</table>\n",
       "</div>"
      ],
      "text/plain": [
       "                  Predicted Not Churn  Predicted Churn\n",
       "Actual Not Churn                 1436               87\n",
       "Actual Churn                      388              202"
      ]
     },
     "execution_count": 93,
     "metadata": {},
     "output_type": "execute_result"
    }
   ],
   "source": [
    "#Calculate confusion matrix\n",
    "confusion_mat = confusion_matrix(Y_test, prediction5)\n",
    "confusion_df5 = pd.DataFrame(confusion_mat, index = ['Actual Not Churn', 'Actual Churn'], \n",
    "                            columns = ['Predicted Not Churn','Predicted Churn'])\n",
    "confusion_df5"
   ]
  },
  {
   "cell_type": "code",
   "execution_count": 94,
   "metadata": {},
   "outputs": [
    {
     "name": "stdout",
     "output_type": "stream",
     "text": [
      "Accuracy score:  0.77520113582584\n",
      "Precision score:  0.698961937716263\n",
      "Recall score: 0.3423728813559322\n",
      "F1 score: 0.45961319681456203\n",
      "ROC_AUC score: 0.6426243920896535\n"
     ]
    }
   ],
   "source": [
    "#Calculate metrics\n",
    "print(\"Accuracy score: \", accuracy_score(Y_test, prediction5))\n",
    "print(\"Precision score: \", precision_score(Y_test, prediction5))\n",
    "print(\"Recall score:\", recall_score(Y_test, prediction5))\n",
    "print(\"F1 score:\", f1_score(Y_test, prediction5))\n",
    "print(\"ROC_AUC score:\", roc_auc_score(Y_test, prediction5))"
   ]
  },
  {
   "cell_type": "code",
   "execution_count": 95,
   "metadata": {},
   "outputs": [
    {
     "data": {
      "text/plain": [
       "AdaBoostClassifier(algorithm='SAMME.R',\n",
       "                   base_estimator=DecisionTreeClassifier(ccp_alpha=0.0,\n",
       "                                                         class_weight=None,\n",
       "                                                         criterion='gini',\n",
       "                                                         max_depth=8,\n",
       "                                                         max_features=None,\n",
       "                                                         max_leaf_nodes=None,\n",
       "                                                         min_impurity_decrease=0.0,\n",
       "                                                         min_impurity_split=None,\n",
       "                                                         min_samples_leaf=1,\n",
       "                                                         min_samples_split=2,\n",
       "                                                         min_weight_fraction_leaf=0.0,\n",
       "                                                         presort='deprecated',\n",
       "                                                         random_state=None,\n",
       "                                                         splitter='best'),\n",
       "                   learning_rate=0.01, n_estimators=200, random_state=123)"
      ]
     },
     "execution_count": 95,
     "metadata": {},
     "output_type": "execute_result"
    }
   ],
   "source": [
    "from sklearn.ensemble import AdaBoostClassifier\n",
    "\n",
    "ada_model = AdaBoostClassifier(DecisionTreeClassifier(max_depth=8), n_estimators=200, learning_rate=0.01, random_state=123)\n",
    "ada_model.fit(X_train, Y_train)"
   ]
  },
  {
   "cell_type": "code",
   "execution_count": 96,
   "metadata": {},
   "outputs": [],
   "source": [
    "prediction6 = ada_model.predict(X_test)"
   ]
  },
  {
   "cell_type": "code",
   "execution_count": 97,
   "metadata": {},
   "outputs": [
    {
     "data": {
      "text/plain": [
       "[(0.21772573967142408, 'TotalCharges'),\n",
       " (0.1971491490785421, 'MonthlyCharges'),\n",
       " (0.0822325849076401, 'tenure'),\n",
       " (0.06941191064050242, 'Contract_Month-to-month'),\n",
       " (0.041255126220180946, 'InternetService_Fiber optic'),\n",
       " (0.040013882723876903, 'PaymentMethod_Electronic check'),\n",
       " (0.03079891393890443, 'gender_Male'),\n",
       " (0.02861541281810921, 'PaperlessBilling'),\n",
       " (0.02689447037757584, 'OnlineSecurity'),\n",
       " (0.025812641645363402, 'Partner'),\n",
       " (0.023825550866238665, 'OnlineBackup'),\n",
       " (0.02343420617735802, 'SeniorCitizen'),\n",
       " (0.021858786497549156, 'DeviceProtection'),\n",
       " (0.021797435684711153, 'TechSupport'),\n",
       " (0.020875256371781486, 'Dependents'),\n",
       " (0.02022180030258427, 'StreamingTV'),\n",
       " (0.019670036938358493, 'StreamingMovies'),\n",
       " (0.014891319858628072, 'PaymentMethod_Bank transfer (automatic)'),\n",
       " (0.014871692457510818, 'MultipleLines_No'),\n",
       " (0.014665310081266458, 'PaymentMethod_Credit card (automatic)'),\n",
       " (0.01406154038756179, 'MultipleLines_Yes'),\n",
       " (0.012310782749800702, 'InternetService_DSL'),\n",
       " (0.011886814286657797, 'Contract_One year'),\n",
       " (0.005719635317873608, 'PhoneService')]"
      ]
     },
     "execution_count": 97,
     "metadata": {},
     "output_type": "execute_result"
    }
   ],
   "source": [
    "feature_list = []\n",
    "for name, score in zip(data1, ada_model.feature_importances_):\n",
    "    feature_list.append((score, name))\n",
    "\n",
    "sorted(features_list, reverse=True)"
   ]
  },
  {
   "cell_type": "code",
   "execution_count": 98,
   "metadata": {},
   "outputs": [
    {
     "data": {
      "text/html": [
       "<div>\n",
       "<style scoped>\n",
       "    .dataframe tbody tr th:only-of-type {\n",
       "        vertical-align: middle;\n",
       "    }\n",
       "\n",
       "    .dataframe tbody tr th {\n",
       "        vertical-align: top;\n",
       "    }\n",
       "\n",
       "    .dataframe thead th {\n",
       "        text-align: right;\n",
       "    }\n",
       "</style>\n",
       "<table border=\"1\" class=\"dataframe\">\n",
       "  <thead>\n",
       "    <tr style=\"text-align: right;\">\n",
       "      <th></th>\n",
       "      <th>Predicted Not Churn</th>\n",
       "      <th>Predicted Churn</th>\n",
       "    </tr>\n",
       "  </thead>\n",
       "  <tbody>\n",
       "    <tr>\n",
       "      <th>Actual Not Churn</th>\n",
       "      <td>1365</td>\n",
       "      <td>158</td>\n",
       "    </tr>\n",
       "    <tr>\n",
       "      <th>Actual Churn</th>\n",
       "      <td>310</td>\n",
       "      <td>280</td>\n",
       "    </tr>\n",
       "  </tbody>\n",
       "</table>\n",
       "</div>"
      ],
      "text/plain": [
       "                  Predicted Not Churn  Predicted Churn\n",
       "Actual Not Churn                 1365              158\n",
       "Actual Churn                      310              280"
      ]
     },
     "execution_count": 98,
     "metadata": {},
     "output_type": "execute_result"
    }
   ],
   "source": [
    "#Calculate confusion matrix\n",
    "confusion_mat = confusion_matrix(Y_test, prediction6)\n",
    "confusion_df6 = pd.DataFrame(confusion_mat, index = ['Actual Not Churn', 'Actual Churn'], \n",
    "                            columns = ['Predicted Not Churn','Predicted Churn'])\n",
    "confusion_df6"
   ]
  },
  {
   "cell_type": "code",
   "execution_count": 99,
   "metadata": {},
   "outputs": [
    {
     "name": "stdout",
     "output_type": "stream",
     "text": [
      "Accuracy score:  0.7785139611926172\n",
      "Precision score:  0.639269406392694\n",
      "Recall score: 0.4745762711864407\n",
      "F1 score: 0.5447470817120622\n",
      "ROC_AUC score: 0.6854168289615723\n"
     ]
    }
   ],
   "source": [
    "#Calculate confusion matrix\n",
    "print(\"Accuracy score: \", accuracy_score(Y_test, prediction6))\n",
    "print(\"Precision score: \", precision_score(Y_test, prediction6))\n",
    "print(\"Recall score:\", recall_score(Y_test, prediction6))\n",
    "print(\"F1 score:\", f1_score(Y_test, prediction6))\n",
    "print(\"ROC_AUC score:\", roc_auc_score(Y_test, prediction6))"
   ]
  },
  {
   "cell_type": "code",
   "execution_count": 100,
   "metadata": {},
   "outputs": [
    {
     "data": {
      "text/html": [
       "<div>\n",
       "<style scoped>\n",
       "    .dataframe tbody tr th:only-of-type {\n",
       "        vertical-align: middle;\n",
       "    }\n",
       "\n",
       "    .dataframe tbody tr th {\n",
       "        vertical-align: top;\n",
       "    }\n",
       "\n",
       "    .dataframe thead th {\n",
       "        text-align: right;\n",
       "    }\n",
       "</style>\n",
       "<table border=\"1\" class=\"dataframe\">\n",
       "  <thead>\n",
       "    <tr style=\"text-align: right;\">\n",
       "      <th></th>\n",
       "      <th>Model</th>\n",
       "      <th>Accuracy_score</th>\n",
       "      <th>Precision</th>\n",
       "      <th>Recall</th>\n",
       "      <th>F1_score</th>\n",
       "      <th>Area_under_curve</th>\n",
       "    </tr>\n",
       "  </thead>\n",
       "  <tbody>\n",
       "    <tr>\n",
       "      <th>0</th>\n",
       "      <td>Decision Tree using GridSearch</td>\n",
       "      <td>0.772835</td>\n",
       "      <td>0.649457</td>\n",
       "      <td>0.405085</td>\n",
       "      <td>0.498956</td>\n",
       "      <td>0.660192</td>\n",
       "    </tr>\n",
       "    <tr>\n",
       "      <th>1</th>\n",
       "      <td>Bagging Classifier</td>\n",
       "      <td>0.794605</td>\n",
       "      <td>0.700000</td>\n",
       "      <td>0.462712</td>\n",
       "      <td>0.557143</td>\n",
       "      <td>0.692945</td>\n",
       "    </tr>\n",
       "    <tr>\n",
       "      <th>2</th>\n",
       "      <td>Random Forest</td>\n",
       "      <td>0.784193</td>\n",
       "      <td>0.661836</td>\n",
       "      <td>0.464407</td>\n",
       "      <td>0.545817</td>\n",
       "      <td>0.686241</td>\n",
       "    </tr>\n",
       "    <tr>\n",
       "      <th>3</th>\n",
       "      <td>Gradient Boost Ensemble</td>\n",
       "      <td>0.775201</td>\n",
       "      <td>0.698962</td>\n",
       "      <td>0.342373</td>\n",
       "      <td>0.459613</td>\n",
       "      <td>0.642624</td>\n",
       "    </tr>\n",
       "    <tr>\n",
       "      <th>4</th>\n",
       "      <td>Ada Boost Ensemble</td>\n",
       "      <td>0.778514</td>\n",
       "      <td>0.639269</td>\n",
       "      <td>0.474576</td>\n",
       "      <td>0.544747</td>\n",
       "      <td>0.685417</td>\n",
       "    </tr>\n",
       "    <tr>\n",
       "      <th>5</th>\n",
       "      <td>Logistic Regression</td>\n",
       "      <td>0.737813</td>\n",
       "      <td>0.519650</td>\n",
       "      <td>0.806779</td>\n",
       "      <td>0.632138</td>\n",
       "      <td>0.758938</td>\n",
       "    </tr>\n",
       "  </tbody>\n",
       "</table>\n",
       "</div>"
      ],
      "text/plain": [
       "                            Model  Accuracy_score  Precision    Recall  \\\n",
       "0  Decision Tree using GridSearch        0.772835   0.649457  0.405085   \n",
       "1              Bagging Classifier        0.794605   0.700000  0.462712   \n",
       "2                   Random Forest        0.784193   0.661836  0.464407   \n",
       "3         Gradient Boost Ensemble        0.775201   0.698962  0.342373   \n",
       "4              Ada Boost Ensemble        0.778514   0.639269  0.474576   \n",
       "5             Logistic Regression        0.737813   0.519650  0.806779   \n",
       "\n",
       "   F1_score  Area_under_curve  \n",
       "0  0.498956          0.660192  \n",
       "1  0.557143          0.692945  \n",
       "2  0.545817          0.686241  \n",
       "3  0.459613          0.642624  \n",
       "4  0.544747          0.685417  \n",
       "5  0.632138          0.758938  "
      ]
     },
     "execution_count": 100,
     "metadata": {},
     "output_type": "execute_result"
    }
   ],
   "source": [
    "#Model report \n",
    "def model_report(model,train_x,test_x,train_y,test_y,name) :\n",
    "    model.fit(train_x,train_y)\n",
    "    predictions  = model.predict(test_x)\n",
    "    accuracy     = accuracy_score(test_y,predictions)\n",
    "    precision    = precision_score(test_y,predictions)\n",
    "    recall       = recall_score(test_y,predictions)\n",
    "    f1score      = f1_score(test_y,predictions) \n",
    "    roc_auc      = roc_auc_score(test_y,predictions)\n",
    "    \n",
    "        \n",
    "    a = pd.DataFrame({\"Model\"           : [name],\n",
    "                       \"Accuracy_score\"  : [accuracy],\n",
    "                       \"Precision\"       : [precision],\n",
    "                       \"Recall\"          : [recall],\n",
    "                       \"F1_score\"        : [f1score],\n",
    "                       \"Area_under_curve\": [roc_auc],                    \n",
    "                      })\n",
    "    return a\n",
    "\n",
    "#outputs for every model\n",
    "model1 = model_report(gs,X_train,X_test,Y_train,Y_test,\"Decision Tree using GridSearch\")                    \n",
    "model2 = model_report(bagged_model,X_train,X_test,Y_train,Y_test, \"Bagging Classifier\")\n",
    "model3 = model_report(rf_model,X_train,X_test,Y_train,Y_test, \"Random Forest\")\n",
    "model4 = model_report(gb_model,X_train,X_test,Y_train,Y_test, \"Gradient Boost Ensemble\")\n",
    "model5 = model_report(ada_model,X_train,X_test,Y_train,Y_test, \"Ada Boost Ensemble\")\n",
    "\n",
    "#Compare model\n",
    "model_compare = pd.concat([model1,model2, model3, model4, model5],axis = 0).reset_index()\n",
    "model_compare = model_compare.drop(columns = \"index\",axis =1)\n",
    "\n",
    "model_compare.append({\"Model\":\"Logistic Regression\", \"Accuracy_score\":0.737813, \"Precision\":0.519650, \"Recall\":0.806779, \n",
    "              \"F1_score\":0.632138, \"Area_under_curve\":0.758938}, ignore_index = True)"
   ]
  }
 ],
 "metadata": {
  "kernelspec": {
   "display_name": "Python 3",
   "language": "python",
   "name": "python3"
  },
  "language_info": {
   "codemirror_mode": {
    "name": "ipython",
    "version": 3
   },
   "file_extension": ".py",
   "mimetype": "text/x-python",
   "name": "python",
   "nbconvert_exporter": "python",
   "pygments_lexer": "ipython3",
   "version": "3.7.6"
  }
 },
 "nbformat": 4,
 "nbformat_minor": 4
}
